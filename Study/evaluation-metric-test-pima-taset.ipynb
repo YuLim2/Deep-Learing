{
 "cells": [
  {
   "cell_type": "markdown",
   "metadata": {},
   "source": [
    "### Coulmns Info\n",
    "- Pregnancies: 임신 횟수\n",
    "- Glucose: 포도당 부하 검사 수치\n",
    "- BloodPressure: 혈압(mm Hg)\n",
    "- Skin Thickness: 팔 삼두근 뒤쪽의 피하지방 측정값(mm)\n",
    "- Insulin: 혈청 인슐린(mu U/ml)\n",
    "- BMI: 체질량지수(체중(kg)/(키(m)^2))\n",
    "- DiabetesPedigreeFunction: 당뇨 내력 가중치 값\n",
    "- Age: 나이\n",
    "- Outccome: 클래스 결정 값(0 or 1)"
   ]
  },
  {
   "cell_type": "code",
   "execution_count": 2,
   "metadata": {
    "_cell_guid": "b1076dfc-b9ad-4769-8c92-a6c4dae69d19",
    "_uuid": "8f2839f25d086af736a60e9eeb907d3b93b6e0e5",
    "execution": {
     "iopub.execute_input": "2022-12-01T04:44:28.930057Z",
     "iopub.status.busy": "2022-12-01T04:44:28.929738Z",
     "iopub.status.idle": "2022-12-01T04:44:28.963491Z",
     "shell.execute_reply": "2022-12-01T04:44:28.961935Z",
     "shell.execute_reply.started": "2022-12-01T04:44:28.930033Z"
    }
   },
   "outputs": [
    {
     "name": "stdout",
     "output_type": "stream",
     "text": [
      "0    500\n",
      "1    268\n",
      "Name: Outcome, dtype: int64\n"
     ]
    },
    {
     "data": {
      "text/html": [
       "<div>\n",
       "<style scoped>\n",
       "    .dataframe tbody tr th:only-of-type {\n",
       "        vertical-align: middle;\n",
       "    }\n",
       "\n",
       "    .dataframe tbody tr th {\n",
       "        vertical-align: top;\n",
       "    }\n",
       "\n",
       "    .dataframe thead th {\n",
       "        text-align: right;\n",
       "    }\n",
       "</style>\n",
       "<table border=\"1\" class=\"dataframe\">\n",
       "  <thead>\n",
       "    <tr style=\"text-align: right;\">\n",
       "      <th></th>\n",
       "      <th>Pregnancies</th>\n",
       "      <th>Glucose</th>\n",
       "      <th>BloodPressure</th>\n",
       "      <th>SkinThickness</th>\n",
       "      <th>Insulin</th>\n",
       "      <th>BMI</th>\n",
       "      <th>DiabetesPedigreeFunction</th>\n",
       "      <th>Age</th>\n",
       "      <th>Outcome</th>\n",
       "    </tr>\n",
       "  </thead>\n",
       "  <tbody>\n",
       "    <tr>\n",
       "      <th>0</th>\n",
       "      <td>6</td>\n",
       "      <td>148</td>\n",
       "      <td>72</td>\n",
       "      <td>35</td>\n",
       "      <td>0</td>\n",
       "      <td>33.6</td>\n",
       "      <td>0.627</td>\n",
       "      <td>50</td>\n",
       "      <td>1</td>\n",
       "    </tr>\n",
       "    <tr>\n",
       "      <th>1</th>\n",
       "      <td>1</td>\n",
       "      <td>85</td>\n",
       "      <td>66</td>\n",
       "      <td>29</td>\n",
       "      <td>0</td>\n",
       "      <td>26.6</td>\n",
       "      <td>0.351</td>\n",
       "      <td>31</td>\n",
       "      <td>0</td>\n",
       "    </tr>\n",
       "    <tr>\n",
       "      <th>2</th>\n",
       "      <td>8</td>\n",
       "      <td>183</td>\n",
       "      <td>64</td>\n",
       "      <td>0</td>\n",
       "      <td>0</td>\n",
       "      <td>23.3</td>\n",
       "      <td>0.672</td>\n",
       "      <td>32</td>\n",
       "      <td>1</td>\n",
       "    </tr>\n",
       "    <tr>\n",
       "      <th>3</th>\n",
       "      <td>1</td>\n",
       "      <td>89</td>\n",
       "      <td>66</td>\n",
       "      <td>23</td>\n",
       "      <td>94</td>\n",
       "      <td>28.1</td>\n",
       "      <td>0.167</td>\n",
       "      <td>21</td>\n",
       "      <td>0</td>\n",
       "    </tr>\n",
       "    <tr>\n",
       "      <th>4</th>\n",
       "      <td>0</td>\n",
       "      <td>137</td>\n",
       "      <td>40</td>\n",
       "      <td>35</td>\n",
       "      <td>168</td>\n",
       "      <td>43.1</td>\n",
       "      <td>2.288</td>\n",
       "      <td>33</td>\n",
       "      <td>1</td>\n",
       "    </tr>\n",
       "  </tbody>\n",
       "</table>\n",
       "</div>"
      ],
      "text/plain": [
       "   Pregnancies  Glucose  BloodPressure  SkinThickness  Insulin   BMI  \\\n",
       "0            6      148             72             35        0  33.6   \n",
       "1            1       85             66             29        0  26.6   \n",
       "2            8      183             64              0        0  23.3   \n",
       "3            1       89             66             23       94  28.1   \n",
       "4            0      137             40             35      168  43.1   \n",
       "\n",
       "   DiabetesPedigreeFunction  Age  Outcome  \n",
       "0                     0.627   50        1  \n",
       "1                     0.351   31        0  \n",
       "2                     0.672   32        1  \n",
       "3                     0.167   21        0  \n",
       "4                     2.288   33        1  "
      ]
     },
     "execution_count": 2,
     "metadata": {},
     "output_type": "execute_result"
    }
   ],
   "source": [
    "import numpy as np\n",
    "import pandas as pd\n",
    "import matplotlib.pyplot as plt\n",
    "%matplotlib inline\n",
    "\n",
    "from sklearn.model_selection import train_test_split\n",
    "from sklearn.metrics import accuracy_score, precision_score, recall_score, roc_auc_score\n",
    "from sklearn.metrics import f1_score, confusion_matrix, precision_recall_curve, roc_curve\n",
    "from sklearn.preprocessing import StandardScaler\n",
    "from sklearn.linear_model import LogisticRegression\n",
    "\n",
    "diabetes_data = pd.read_csv('./diabetes.csv')\n",
    "print(diabetes_data['Outcome'].value_counts())\n",
    "diabetes_data.head(5)"
   ]
  },
  {
   "cell_type": "code",
   "execution_count": 3,
   "metadata": {
    "execution": {
     "iopub.execute_input": "2022-12-01T04:44:29.282077Z",
     "iopub.status.busy": "2022-12-01T04:44:29.281696Z",
     "iopub.status.idle": "2022-12-01T04:44:29.294967Z",
     "shell.execute_reply": "2022-12-01T04:44:29.293569Z",
     "shell.execute_reply.started": "2022-12-01T04:44:29.282046Z"
    }
   },
   "outputs": [
    {
     "name": "stdout",
     "output_type": "stream",
     "text": [
      "<class 'pandas.core.frame.DataFrame'>\n",
      "RangeIndex: 768 entries, 0 to 767\n",
      "Data columns (total 9 columns):\n",
      " #   Column                    Non-Null Count  Dtype  \n",
      "---  ------                    --------------  -----  \n",
      " 0   Pregnancies               768 non-null    int64  \n",
      " 1   Glucose                   768 non-null    int64  \n",
      " 2   BloodPressure             768 non-null    int64  \n",
      " 3   SkinThickness             768 non-null    int64  \n",
      " 4   Insulin                   768 non-null    int64  \n",
      " 5   BMI                       768 non-null    float64\n",
      " 6   DiabetesPedigreeFunction  768 non-null    float64\n",
      " 7   Age                       768 non-null    int64  \n",
      " 8   Outcome                   768 non-null    int64  \n",
      "dtypes: float64(2), int64(7)\n",
      "memory usage: 54.1 KB\n"
     ]
    }
   ],
   "source": [
    "diabetes_data.info()"
   ]
  },
  {
   "cell_type": "code",
   "execution_count": 4,
   "metadata": {
    "execution": {
     "iopub.execute_input": "2022-12-01T04:44:29.318979Z",
     "iopub.status.busy": "2022-12-01T04:44:29.318647Z",
     "iopub.status.idle": "2022-12-01T04:44:29.325761Z",
     "shell.execute_reply": "2022-12-01T04:44:29.325025Z",
     "shell.execute_reply.started": "2022-12-01T04:44:29.318955Z"
    }
   },
   "outputs": [],
   "source": [
    "# Set a function to print evaluation metric\n",
    "def get_clf_eval(y_test, pred=None, pred_proba=None):\n",
    "    confusion = confusion_matrix(y_test, pred) \n",
    "    accuracy = accuracy_score(y_test, pred)\n",
    "    precision = precision_score(y_test, pred)\n",
    "    recall = recall_score(y_test, pred)\n",
    "    F1 = f1_score(y_test, pred)\n",
    "    AUC = roc_auc_score(y_test, pred_proba)\n",
    "\n",
    "    print('Confusion matrix:\\n', confusion)\n",
    "    print('\\nAccurcy: {:.4f}'.format(accuracy))\n",
    "    print('Precision: {:.4f}'.format(precision))\n",
    "    print('Recall: {:.4f}'.format(recall))\n",
    "    print('F1: {:.4f}'.format(F1))\n",
    "    print('AUC: {:.4f}'.format(AUC))"
   ]
  },
  {
   "cell_type": "code",
   "execution_count": 5,
   "metadata": {
    "execution": {
     "iopub.execute_input": "2022-12-01T04:44:29.519868Z",
     "iopub.status.busy": "2022-12-01T04:44:29.518495Z",
     "iopub.status.idle": "2022-12-01T04:44:29.528476Z",
     "shell.execute_reply": "2022-12-01T04:44:29.526911Z",
     "shell.execute_reply.started": "2022-12-01T04:44:29.519816Z"
    }
   },
   "outputs": [],
   "source": [
    "# Precision-Recall Curve Plot\n",
    "def precision_recall_curve_plot(y_test=None, pred_proba=None):\n",
    "    # threshold ndarray와 이 threshold에 따른 정밀도, 재현율 ndarray 추출\n",
    "    precisions, recalls, thresholds = precision_recall_curve(y_test, pred_proba)\n",
    "    \n",
    "    # x =  threshold, y = Precision, \n",
    "    plt.figure(figsize=(8, 6))\n",
    "    thresholds_boundary = thresholds.shape[0]\n",
    "    plt.plot(thresholds, precisions[0:thresholds_boundary], linestyle='--', label='precision')\n",
    "    plt.plot(thresholds, recalls[0:thresholds_boundary], linestyle=':', label='recall')\n",
    "    \n",
    "    # threshold's X scale change to 0.1\n",
    "    stard, end = plt.xlim()\n",
    "    plt.xticks(np.round(np.arange(stard, end, 0.1), 2))\n",
    "    \n",
    "    plt.xlim()\n",
    "    plt.xlabel('thresholds')\n",
    "    plt.ylabel('precision and recall value')\n",
    "    plt.legend()\n",
    "    plt.grid()\n",
    "    plt.show()"
   ]
  },
  {
   "cell_type": "markdown",
   "metadata": {},
   "source": [
    "### Training and Predict with Logistic Regression"
   ]
  },
  {
   "cell_type": "code",
   "execution_count": 6,
   "metadata": {
    "execution": {
     "iopub.execute_input": "2022-12-01T04:44:30.555256Z",
     "iopub.status.busy": "2022-12-01T04:44:30.554615Z",
     "iopub.status.idle": "2022-12-01T04:44:30.581428Z",
     "shell.execute_reply": "2022-12-01T04:44:30.580221Z",
     "shell.execute_reply.started": "2022-12-01T04:44:30.555230Z"
    }
   },
   "outputs": [
    {
     "name": "stdout",
     "output_type": "stream",
     "text": [
      "Confusion matrix:\n",
      " [[87 13]\n",
      " [22 32]]\n",
      "\n",
      "Accurcy: 0.7727\n",
      "Precision: 0.7111\n",
      "Recall: 0.5926\n",
      "F1: 0.6465\n",
      "AUC: 0.8083\n"
     ]
    }
   ],
   "source": [
    "x = diabetes_data.iloc[:, :-1]\n",
    "y = diabetes_data.iloc[:, -1]\n",
    "\n",
    "x_train, x_test, y_train, y_test = train_test_split(x, y, test_size=0.2, random_state=156, stratify=y)\n",
    "\n",
    "# training and predict\n",
    "lr_clf = LogisticRegression(solver='liblinear')\n",
    "lr_clf.fit(x_train, y_train)\n",
    "pred = lr_clf.predict(x_test)\n",
    "pred_proba = lr_clf.predict_proba(x_test)[:, 1]\n",
    "\n",
    "get_clf_eval(y_test, pred, pred_proba)"
   ]
  },
  {
   "cell_type": "markdown",
   "metadata": {},
   "source": [
    "### Curve plot precision and recall"
   ]
  },
  {
   "cell_type": "code",
   "execution_count": 7,
   "metadata": {
    "execution": {
     "iopub.execute_input": "2022-12-01T04:46:41.496905Z",
     "iopub.status.busy": "2022-12-01T04:46:41.496606Z",
     "iopub.status.idle": "2022-12-01T04:46:41.698124Z",
     "shell.execute_reply": "2022-12-01T04:46:41.697212Z",
     "shell.execute_reply.started": "2022-12-01T04:46:41.496881Z"
    }
   },
   "outputs": [
    {
     "data": {
      "image/png": "[encoded data removed]",
      "text/plain": [
       "<Figure size 800x600 with 1 Axes>"
      ]
     },
     "metadata": {},
     "output_type": "display_data"
    }
   ],
   "source": [
    "pred_proba = lr_clf.predict_proba(x_test)[:, 1]\n",
    "precision_recall_curve_plot(y_test, pred_proba)"
   ]
  },
  {
   "cell_type": "markdown",
   "metadata": {},
   "source": [
    "### Quaternary distribution of each Features"
   ]
  },
  {
   "cell_type": "code",
   "execution_count": 8,
   "metadata": {
    "execution": {
     "iopub.execute_input": "2022-12-01T04:54:14.584416Z",
     "iopub.status.busy": "2022-12-01T04:54:14.584105Z",
     "iopub.status.idle": "2022-12-01T04:54:14.626308Z",
     "shell.execute_reply": "2022-12-01T04:54:14.625624Z",
     "shell.execute_reply.started": "2022-12-01T04:54:14.584374Z"
    }
   },
   "outputs": [
    {
     "data": {
      "text/html": [
       "<div>\n",
       "<style scoped>\n",
       "    .dataframe tbody tr th:only-of-type {\n",
       "        vertical-align: middle;\n",
       "    }\n",
       "\n",
       "    .dataframe tbody tr th {\n",
       "        vertical-align: top;\n",
       "    }\n",
       "\n",
       "    .dataframe thead th {\n",
       "        text-align: right;\n",
       "    }\n",
       "</style>\n",
       "<table border=\"1\" class=\"dataframe\">\n",
       "  <thead>\n",
       "    <tr style=\"text-align: right;\">\n",
       "      <th></th>\n",
       "      <th>Pregnancies</th>\n",
       "      <th>Glucose</th>\n",
       "      <th>BloodPressure</th>\n",
       "      <th>SkinThickness</th>\n",
       "      <th>Insulin</th>\n",
       "      <th>BMI</th>\n",
       "      <th>DiabetesPedigreeFunction</th>\n",
       "      <th>Age</th>\n",
       "      <th>Outcome</th>\n",
       "    </tr>\n",
       "  </thead>\n",
       "  <tbody>\n",
       "    <tr>\n",
       "      <th>count</th>\n",
       "      <td>768.000000</td>\n",
       "      <td>768.000000</td>\n",
       "      <td>768.000000</td>\n",
       "      <td>768.000000</td>\n",
       "      <td>768.000000</td>\n",
       "      <td>768.000000</td>\n",
       "      <td>768.000000</td>\n",
       "      <td>768.000000</td>\n",
       "      <td>768.000000</td>\n",
       "    </tr>\n",
       "    <tr>\n",
       "      <th>mean</th>\n",
       "      <td>3.845052</td>\n",
       "      <td>120.894531</td>\n",
       "      <td>69.105469</td>\n",
       "      <td>20.536458</td>\n",
       "      <td>79.799479</td>\n",
       "      <td>31.992578</td>\n",
       "      <td>0.471876</td>\n",
       "      <td>33.240885</td>\n",
       "      <td>0.348958</td>\n",
       "    </tr>\n",
       "    <tr>\n",
       "      <th>std</th>\n",
       "      <td>3.369578</td>\n",
       "      <td>31.972618</td>\n",
       "      <td>19.355807</td>\n",
       "      <td>15.952218</td>\n",
       "      <td>115.244002</td>\n",
       "      <td>7.884160</td>\n",
       "      <td>0.331329</td>\n",
       "      <td>11.760232</td>\n",
       "      <td>0.476951</td>\n",
       "    </tr>\n",
       "    <tr>\n",
       "      <th>min</th>\n",
       "      <td>0.000000</td>\n",
       "      <td>0.000000</td>\n",
       "      <td>0.000000</td>\n",
       "      <td>0.000000</td>\n",
       "      <td>0.000000</td>\n",
       "      <td>0.000000</td>\n",
       "      <td>0.078000</td>\n",
       "      <td>21.000000</td>\n",
       "      <td>0.000000</td>\n",
       "    </tr>\n",
       "    <tr>\n",
       "      <th>25%</th>\n",
       "      <td>1.000000</td>\n",
       "      <td>99.000000</td>\n",
       "      <td>62.000000</td>\n",
       "      <td>0.000000</td>\n",
       "      <td>0.000000</td>\n",
       "      <td>27.300000</td>\n",
       "      <td>0.243750</td>\n",
       "      <td>24.000000</td>\n",
       "      <td>0.000000</td>\n",
       "    </tr>\n",
       "    <tr>\n",
       "      <th>50%</th>\n",
       "      <td>3.000000</td>\n",
       "      <td>117.000000</td>\n",
       "      <td>72.000000</td>\n",
       "      <td>23.000000</td>\n",
       "      <td>30.500000</td>\n",
       "      <td>32.000000</td>\n",
       "      <td>0.372500</td>\n",
       "      <td>29.000000</td>\n",
       "      <td>0.000000</td>\n",
       "    </tr>\n",
       "    <tr>\n",
       "      <th>75%</th>\n",
       "      <td>6.000000</td>\n",
       "      <td>140.250000</td>\n",
       "      <td>80.000000</td>\n",
       "      <td>32.000000</td>\n",
       "      <td>127.250000</td>\n",
       "      <td>36.600000</td>\n",
       "      <td>0.626250</td>\n",
       "      <td>41.000000</td>\n",
       "      <td>1.000000</td>\n",
       "    </tr>\n",
       "    <tr>\n",
       "      <th>max</th>\n",
       "      <td>17.000000</td>\n",
       "      <td>199.000000</td>\n",
       "      <td>122.000000</td>\n",
       "      <td>99.000000</td>\n",
       "      <td>846.000000</td>\n",
       "      <td>67.100000</td>\n",
       "      <td>2.420000</td>\n",
       "      <td>81.000000</td>\n",
       "      <td>1.000000</td>\n",
       "    </tr>\n",
       "  </tbody>\n",
       "</table>\n",
       "</div>"
      ],
      "text/plain": [
       "       Pregnancies     Glucose  BloodPressure  SkinThickness     Insulin  \\\n",
       "count   768.000000  768.000000     768.000000     768.000000  768.000000   \n",
       "mean      3.845052  120.894531      69.105469      20.536458   79.799479   \n",
       "std       3.369578   31.972618      19.355807      15.952218  115.244002   \n",
       "min       0.000000    0.000000       0.000000       0.000000    0.000000   \n",
       "25%       1.000000   99.000000      62.000000       0.000000    0.000000   \n",
       "50%       3.000000  117.000000      72.000000      23.000000   30.500000   \n",
       "75%       6.000000  140.250000      80.000000      32.000000  127.250000   \n",
       "max      17.000000  199.000000     122.000000      99.000000  846.000000   \n",
       "\n",
       "              BMI  DiabetesPedigreeFunction         Age     Outcome  \n",
       "count  768.000000                768.000000  768.000000  768.000000  \n",
       "mean    31.992578                  0.471876   33.240885    0.348958  \n",
       "std      7.884160                  0.331329   11.760232    0.476951  \n",
       "min      0.000000                  0.078000   21.000000    0.000000  \n",
       "25%     27.300000                  0.243750   24.000000    0.000000  \n",
       "50%     32.000000                  0.372500   29.000000    0.000000  \n",
       "75%     36.600000                  0.626250   41.000000    1.000000  \n",
       "max     67.100000                  2.420000   81.000000    1.000000  "
      ]
     },
     "execution_count": 8,
     "metadata": {},
     "output_type": "execute_result"
    }
   ],
   "source": [
    "diabetes_data.describe()"
   ]
  },
  {
   "cell_type": "code",
   "execution_count": 9,
   "metadata": {
    "execution": {
     "iopub.execute_input": "2022-12-01T04:59:38.358469Z",
     "iopub.status.busy": "2022-12-01T04:59:38.356925Z",
     "iopub.status.idle": "2022-12-01T04:59:38.620961Z",
     "shell.execute_reply": "2022-12-01T04:59:38.620346Z",
     "shell.execute_reply.started": "2022-12-01T04:59:38.358390Z"
    }
   },
   "outputs": [
    {
     "data": {
      "image/png": "[encoded data removed]",
      "text/plain": [
       "<Figure size 640x480 with 1 Axes>"
      ]
     },
     "metadata": {},
     "output_type": "display_data"
    }
   ],
   "source": [
    "plt.hist(diabetes_data['Glucose'], bins=100)\n",
    "plt.show()"
   ]
  },
  {
   "cell_type": "markdown",
   "metadata": {},
   "source": [
    "### Check and replace data what include 0 value"
   ]
  },
  {
   "cell_type": "code",
   "execution_count": 10,
   "metadata": {
    "execution": {
     "iopub.execute_input": "2022-12-01T05:09:27.745776Z",
     "iopub.status.busy": "2022-12-01T05:09:27.745436Z",
     "iopub.status.idle": "2022-12-01T05:09:27.756253Z",
     "shell.execute_reply": "2022-12-01T05:09:27.754635Z",
     "shell.execute_reply.started": "2022-12-01T05:09:27.745750Z"
    }
   },
   "outputs": [
    {
     "name": "stdout",
     "output_type": "stream",
     "text": [
      "Glucose 건수는 5, 퍼센트는 0.65\n",
      "BloodPressure 건수는 35, 퍼센트는 4.56\n",
      "SkinThickness 건수는 227, 퍼센트는 29.56\n",
      "Insulin 건수는 374, 퍼센트는 48.70\n",
      "BMI 건수는 11, 퍼센트는 1.43\n"
     ]
    }
   ],
   "source": [
    "# Features list to check\n",
    "zero_features = ['Glucose', 'BloodPressure', 'SkinThickness', 'Insulin', 'BMI']\n",
    "\n",
    "# Amount of all data\n",
    "total_count = diabetes_data['Glucose'].count()\n",
    "\n",
    "# Extract and calculate 0 value of data\n",
    "for feature in zero_features:\n",
    "    zero_count = diabetes_data[diabetes_data[feature] == 0][feature].count()\n",
    "    print(f'{feature} 건수는 {zero_count}, 퍼센트는 {100*zero_count/total_count:.2f}')"
   ]
  },
  {
   "cell_type": "code",
   "execution_count": 11,
   "metadata": {
    "execution": {
     "iopub.execute_input": "2022-12-01T05:32:30.844375Z",
     "iopub.status.busy": "2022-12-01T05:32:30.844075Z",
     "iopub.status.idle": "2022-12-01T05:32:30.857292Z",
     "shell.execute_reply": "2022-12-01T05:32:30.856039Z",
     "shell.execute_reply.started": "2022-12-01T05:32:30.844351Z"
    }
   },
   "outputs": [],
   "source": [
    "# Replace 0 values to mean of other values\n",
    "diabetes_data[zero_features] = diabetes_data[zero_features].replace(0, diabetes_data[zero_features].mean())"
   ]
  },
  {
   "cell_type": "code",
   "execution_count": 12,
   "metadata": {
    "execution": {
     "iopub.execute_input": "2022-12-01T05:33:04.840855Z",
     "iopub.status.busy": "2022-12-01T05:33:04.840497Z",
     "iopub.status.idle": "2022-12-01T05:33:04.850663Z",
     "shell.execute_reply": "2022-12-01T05:33:04.849295Z",
     "shell.execute_reply.started": "2022-12-01T05:33:04.840818Z"
    }
   },
   "outputs": [
    {
     "name": "stdout",
     "output_type": "stream",
     "text": [
      "Glucose 건수는 0, 퍼센트는 0.00\n",
      "BloodPressure 건수는 0, 퍼센트는 0.00\n",
      "SkinThickness 건수는 0, 퍼센트는 0.00\n",
      "Insulin 건수는 0, 퍼센트는 0.00\n",
      "BMI 건수는 0, 퍼센트는 0.00\n"
     ]
    }
   ],
   "source": [
    "for feature in zero_features:\n",
    "    zero_count = diabetes_data[diabetes_data[feature] == 0][feature].count()\n",
    "    print(f'{feature} 건수는 {zero_count}, 퍼센트는 {100*zero_count/total_count:.2f}')"
   ]
  },
  {
   "cell_type": "markdown",
   "metadata": {
    "execution": {
     "iopub.execute_input": "2022-12-01T05:38:05.772605Z",
     "iopub.status.busy": "2022-12-01T05:38:05.772254Z",
     "iopub.status.idle": "2022-12-01T05:38:05.777589Z",
     "shell.execute_reply": "2022-12-01T05:38:05.776597Z",
     "shell.execute_reply.started": "2022-12-01T05:38:05.772580Z"
    }
   },
   "source": [
    "### Scaling with StandardScale and training that data"
   ]
  },
  {
   "cell_type": "code",
   "execution_count": 13,
   "metadata": {
    "execution": {
     "iopub.execute_input": "2022-12-01T05:47:31.083695Z",
     "iopub.status.busy": "2022-12-01T05:47:31.083374Z",
     "iopub.status.idle": "2022-12-01T05:47:31.111511Z",
     "shell.execute_reply": "2022-12-01T05:47:31.110218Z",
     "shell.execute_reply.started": "2022-12-01T05:47:31.083671Z"
    }
   },
   "outputs": [
    {
     "name": "stdout",
     "output_type": "stream",
     "text": [
      "Confusion matrix:\n",
      " [[88 12]\n",
      " [22 32]]\n",
      "\n",
      "Accurcy: 0.7792\n",
      "Precision: 0.7273\n",
      "Recall: 0.5926\n",
      "F1: 0.6531\n",
      "AUC: 0.8433\n"
     ]
    }
   ],
   "source": [
    "x = diabetes_data.iloc[:, :-1]\n",
    "y = diabetes_data.iloc[:, -1]\n",
    "\n",
    "# scaling with standardscler class\n",
    "scaler = StandardScaler()\n",
    "x_scaled = scaler.fit_transform(x)\n",
    "\n",
    "x_train, x_test, y_train, y_test = train_test_split(x, y, test_size=0.2, random_state=156, stratify=y)\n",
    "\n",
    "# training with Logistic regression\n",
    "lr_clf = LogisticRegression(solver='liblinear')\n",
    "lr_clf.fit(x_train, y_train)\n",
    "pred = lr_clf.predict(x_test)\n",
    "pred_proba = lr_clf.predict_proba(x_test)[:, 1]\n",
    "\n",
    "get_clf_eval(y_test, pred, pred_proba)"
   ]
  },
  {
   "cell_type": "markdown",
   "metadata": {},
   "source": [
    "### Evaluation metric during change classification threshold"
   ]
  },
  {
   "cell_type": "code",
   "execution_count": 14,
   "metadata": {
    "execution": {
     "iopub.execute_input": "2022-12-01T06:03:16.584970Z",
     "iopub.status.busy": "2022-12-01T06:03:16.584641Z",
     "iopub.status.idle": "2022-12-01T06:03:16.591629Z",
     "shell.execute_reply": "2022-12-01T06:03:16.590061Z",
     "shell.execute_reply.started": "2022-12-01T06:03:16.584946Z"
    }
   },
   "outputs": [],
   "source": [
    "from sklearn.preprocessing import Binarizer\n",
    "\n",
    "def get_eval_by_threshold(y_test, pred_proba, threshold):\n",
    "    # Iteration and Evaluation each threshold in list\n",
    "    for custom_threshold in thresholds:\n",
    "        binzrizer = Binarizer(threshold=custom_threshold).fit(pred_proba)\n",
    "        custom_predict = binzrizer.transform(pred_proba)\n",
    "        print(f'Treshold: {custom_threshold}')\n",
    "        get_clf_eval(y_test, custom_predict, pred_proba)"
   ]
  },
  {
   "cell_type": "code",
   "execution_count": 15,
   "metadata": {
    "execution": {
     "iopub.execute_input": "2022-12-01T06:03:16.944994Z",
     "iopub.status.busy": "2022-12-01T06:03:16.944670Z",
     "iopub.status.idle": "2022-12-01T06:03:16.989164Z",
     "shell.execute_reply": "2022-12-01T06:03:16.988061Z",
     "shell.execute_reply.started": "2022-12-01T06:03:16.944969Z"
    }
   },
   "outputs": [
    {
     "name": "stdout",
     "output_type": "stream",
     "text": [
      "Treshold: 0.3\n",
      "Confusion matrix:\n",
      " [[66 34]\n",
      " [ 9 45]]\n",
      "\n",
      "Accurcy: 0.7208\n",
      "Precision: 0.5696\n",
      "Recall: 0.8333\n",
      "F1: 0.6767\n",
      "AUC: 0.8433\n",
      "Treshold: 0.33\n",
      "Confusion matrix:\n",
      " [[74 26]\n",
      " [12 42]]\n",
      "\n",
      "Accurcy: 0.7532\n",
      "Precision: 0.6176\n",
      "Recall: 0.7778\n",
      "F1: 0.6885\n",
      "AUC: 0.8433\n",
      "Treshold: 0.36\n",
      "Confusion matrix:\n",
      " [[78 22]\n",
      " [14 40]]\n",
      "\n",
      "Accurcy: 0.7662\n",
      "Precision: 0.6452\n",
      "Recall: 0.7407\n",
      "F1: 0.6897\n",
      "AUC: 0.8433\n",
      "Treshold: 0.39\n",
      "Confusion matrix:\n",
      " [[83 17]\n",
      " [16 38]]\n",
      "\n",
      "Accurcy: 0.7857\n",
      "Precision: 0.6909\n",
      "Recall: 0.7037\n",
      "F1: 0.6972\n",
      "AUC: 0.8433\n",
      "Treshold: 0.42\n",
      "Confusion matrix:\n",
      " [[83 17]\n",
      " [17 37]]\n",
      "\n",
      "Accurcy: 0.7792\n",
      "Precision: 0.6852\n",
      "Recall: 0.6852\n",
      "F1: 0.6852\n",
      "AUC: 0.8433\n",
      "Treshold: 0.45\n",
      "Confusion matrix:\n",
      " [[84 16]\n",
      " [19 35]]\n",
      "\n",
      "Accurcy: 0.7727\n",
      "Precision: 0.6863\n",
      "Recall: 0.6481\n",
      "F1: 0.6667\n",
      "AUC: 0.8433\n",
      "Treshold: 0.48\n",
      "Confusion matrix:\n",
      " [[85 15]\n",
      " [21 33]]\n",
      "\n",
      "Accurcy: 0.7662\n",
      "Precision: 0.6875\n",
      "Recall: 0.6111\n",
      "F1: 0.6471\n",
      "AUC: 0.8433\n",
      "Treshold: 0.5\n",
      "Confusion matrix:\n",
      " [[88 12]\n",
      " [22 32]]\n",
      "\n",
      "Accurcy: 0.7792\n",
      "Precision: 0.7273\n",
      "Recall: 0.5926\n",
      "F1: 0.6531\n",
      "AUC: 0.8433\n"
     ]
    }
   ],
   "source": [
    "thresholds = [0.3, 0.33, 0.36, 0.39, 0.42, 0.45, 0.48, 0.50]\n",
    "pred_proba = lr_clf.predict_proba(x_test)\n",
    "\n",
    "get_eval_by_threshold(y_test, pred_proba[:, -1].reshape(-1, 1), thresholds)"
   ]
  },
  {
   "cell_type": "code",
   "execution_count": 16,
   "metadata": {
    "execution": {
     "iopub.execute_input": "2022-12-01T06:36:07.613881Z",
     "iopub.status.busy": "2022-12-01T06:36:07.612705Z",
     "iopub.status.idle": "2022-12-01T06:36:07.633914Z",
     "shell.execute_reply": "2022-12-01T06:36:07.633055Z",
     "shell.execute_reply.started": "2022-12-01T06:36:07.613822Z"
    }
   },
   "outputs": [
    {
     "name": "stdout",
     "output_type": "stream",
     "text": [
      "Confusion matrix:\n",
      " [[85 15]\n",
      " [21 33]]\n",
      "\n",
      "Accurcy: 0.7662\n",
      "Precision: 0.6875\n",
      "Recall: 0.6111\n",
      "F1: 0.6471\n",
      "AUC: 0.8433\n",
      "Confusion matrix:\n",
      " [[83 17]\n",
      " [16 38]]\n",
      "\n",
      "Accurcy: 0.7857\n",
      "Precision: 0.6909\n",
      "Recall: 0.7037\n",
      "F1: 0.6972\n",
      "AUC: 0.8433\n"
     ]
    }
   ],
   "source": [
    "# Create Binarizer what threshold=0.48, 0.39\n",
    "binarizer1 = Binarizer(threshold=0.48)\n",
    "binarizer2 = Binarizer(threshold=0.39)\n",
    "\n",
    "# Transform column what predict percent is 1 in above binarizer\n",
    "pred_th_048 = binarizer1.fit_transform(pred_proba[:, 1].reshape(-1, 1))\n",
    "pred_th_039 = binarizer2.fit_transform(pred_proba[:, 1].reshape(-1, 1))\n",
    "\n",
    "get_clf_eval(y_test, pred_th_048, pred_proba[:, 1])\n",
    "get_clf_eval(y_test, pred_th_039, pred_proba[:, 1])"
   ]
  }
 ],
 "metadata": {
  "kernelspec": {
   "display_name": "Python 3 (ipykernel)",
   "language": "python",
   "name": "python3"
  },
  "language_info": {
   "codemirror_mode": {
    "name": "ipython",
    "version": 3
   },
   "file_extension": ".py",
   "mimetype": "text/x-python",
   "name": "python",
   "nbconvert_exporter": "python",
   "pygments_lexer": "ipython3",
   "version": "3.8.5"
  }
 },
 "nbformat": 4,
 "nbformat_minor": 4
}
